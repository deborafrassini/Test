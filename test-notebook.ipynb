{
 "cells": [
  {
   "cell_type": "markdown",
   "id": "4f7fd8fe-a05a-472e-8d86-ac128b24e04b",
   "metadata": {},
   "source": [
    "### This is another test to push remotely"
   ]
  },
  {
   "cell_type": "code",
   "execution_count": 2,
   "id": "2dc9e710-dc38-4b29-b987-1da1b15cc71f",
   "metadata": {
    "tags": []
   },
   "outputs": [],
   "source": [
    "a = 3"
   ]
  },
  {
   "cell_type": "code",
   "execution_count": 4,
   "id": "e5dbfff6-d97b-4a8f-ac0a-6f28b3512cb9",
   "metadata": {
    "tags": []
   },
   "outputs": [],
   "source": [
    "b = 8"
   ]
  },
  {
   "cell_type": "code",
   "execution_count": 6,
   "id": "d7fbf6fb-0952-4043-888a-2b722219ff61",
   "metadata": {
    "tags": []
   },
   "outputs": [],
   "source": [
    "c = 12"
   ]
  },
  {
   "cell_type": "code",
   "execution_count": 8,
   "id": "123e3ccf-0703-40bc-95f1-596172ba7fbb",
   "metadata": {
    "tags": []
   },
   "outputs": [],
   "source": [
    "d = c + a"
   ]
  },
  {
   "cell_type": "code",
   "execution_count": 10,
   "id": "315a54c0-f3f0-4ad4-b945-86eb2b73f6b2",
   "metadata": {
    "tags": []
   },
   "outputs": [],
   "source": [
    "e = ( d + 1 ) / b"
   ]
  },
  {
   "cell_type": "code",
   "execution_count": 12,
   "id": "de570f32-6e32-4963-ac28-01d67aa11129",
   "metadata": {
    "tags": []
   },
   "outputs": [
    {
     "data": {
      "text/plain": [
       "2.0"
      ]
     },
     "execution_count": 12,
     "metadata": {},
     "output_type": "execute_result"
    }
   ],
   "source": [
    "e"
   ]
  },
  {
   "cell_type": "code",
   "execution_count": null,
   "id": "ea259423-3c42-4481-a948-53c7525090c2",
   "metadata": {},
   "outputs": [],
   "source": []
  }
 ],
 "metadata": {
  "kernelspec": {
   "display_name": "Python 3 (ipykernel)",
   "language": "python",
   "name": "python3"
  },
  "language_info": {
   "codemirror_mode": {
    "name": "ipython",
    "version": 3
   },
   "file_extension": ".py",
   "mimetype": "text/x-python",
   "name": "python",
   "nbconvert_exporter": "python",
   "pygments_lexer": "ipython3",
   "version": "3.11.7"
  }
 },
 "nbformat": 4,
 "nbformat_minor": 5
}
